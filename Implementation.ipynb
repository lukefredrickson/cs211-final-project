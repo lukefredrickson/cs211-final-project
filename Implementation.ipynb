{
 "cells": [
  {
   "cell_type": "code",
   "execution_count": 3,
   "metadata": {},
   "outputs": [
    {
     "name": "stdout",
     "output_type": "stream",
     "text": [
      "     fiscal_year  payroll_number                agency_name    last_name  \\\n",
      "0           2020              67  ADMIN FOR CHILDREN'S SVCS  KIRSHENBAUM   \n",
      "1           2020              67  ADMIN FOR CHILDREN'S SVCS    ARMSTRONG   \n",
      "2           2020              67  ADMIN FOR CHILDREN'S SVCS       SCHEAR   \n",
      "3           2020              67  ADMIN FOR CHILDREN'S SVCS       BARTON   \n",
      "4           2020              67  ADMIN FOR CHILDREN'S SVCS       AILURI   \n",
      "..           ...             ...                        ...          ...   \n",
      "995         2020              67  ADMIN FOR CHILDREN'S SVCS       GALVEZ   \n",
      "996         2020              67  ADMIN FOR CHILDREN'S SVCS     ANDERSON   \n",
      "997         2020              67  ADMIN FOR CHILDREN'S SVCS       HOLMES   \n",
      "998         2020              67  ADMIN FOR CHILDREN'S SVCS        MOORE   \n",
      "999         2020              67  ADMIN FOR CHILDREN'S SVCS         HALL   \n",
      "\n",
      "     first_name mid_init        agency_start_date work_location_borough  \\\n",
      "0        SHELLY        P  1996-06-23T00:00:00.000              RICHMOND   \n",
      "1       JAVONNE        R  2004-09-20T00:00:00.000              RICHMOND   \n",
      "2         NAOMI      NaN  2017-02-27T00:00:00.000             MANHATTAN   \n",
      "3         TISHA        B  2011-07-04T00:00:00.000                 BRONX   \n",
      "4         KAVYA      NaN  2016-06-20T00:00:00.000             MANHATTAN   \n",
      "..          ...      ...                      ...                   ...   \n",
      "995      MARLEE        C  2016-09-12T00:00:00.000              BROOKLYN   \n",
      "996    LORRAINE        E  2011-07-04T00:00:00.000                 BRONX   \n",
      "997  JACQUELINE      NaN  1996-06-23T00:00:00.000             MANHATTAN   \n",
      "998       TAMMY      NaN  1996-06-23T00:00:00.000                 BRONX   \n",
      "999   CLAUDETTE        P  1996-06-23T00:00:00.000             MANHATTAN   \n",
      "\n",
      "                                     title_description  \\\n",
      "0               CHILD PROTECTIVE SPECIALIST SUPERVISOR   \n",
      "1                         DIRECTOR OF FIELD OPERATIONS   \n",
      "2           ADMINISTRATIVE DIRECTOR OF SOCIAL SERVICES   \n",
      "3                               CONGREG CARE SPEC- DJJ   \n",
      "4                                  COMPUTER SPECIALIST   \n",
      "..                                                 ...   \n",
      "995                                    AGENCY ATTORNEY   \n",
      "996  ADMINISTRATIVE DIRECTOR OF RESIDENTIAL CHILD CARE   \n",
      "997                           CHILD WELFARE SPECIALIST   \n",
      "998                       DIRECTOR OF FIELD OPERATIONS   \n",
      "999                       DIRECTOR OF FIELD OPERATIONS   \n",
      "\n",
      "    leave_status_as_of_july_31  base_salary  pay_basis  regular_hours  \\\n",
      "0                       ACTIVE      92515.0  per Annum         1820.0   \n",
      "1                       ACTIVE     102904.0  per Annum         1820.0   \n",
      "2                       ACTIVE     128750.0  per Annum         1820.0   \n",
      "3                       ACTIVE      74147.0  per Annum         2080.0   \n",
      "4                       ACTIVE     109320.0  per Annum         1820.0   \n",
      "..                         ...          ...        ...            ...   \n",
      "995                     ACTIVE      91563.0  per Annum         1820.0   \n",
      "996                     ACTIVE      95118.0  per Annum         1820.0   \n",
      "997                     ACTIVE      55944.0  per Annum         1820.0   \n",
      "998                     ACTIVE     102904.0  per Annum         1820.0   \n",
      "999                     ACTIVE     102904.0  per Annum         1820.0   \n",
      "\n",
      "     regular_gross_paid  ot_hours  total_ot_paid  total_other_pay  \n",
      "0              91086.64    214.50       16280.21          5313.31  \n",
      "1             101340.50      0.00           0.00             0.00  \n",
      "2             126793.63      0.00           0.00             0.00  \n",
      "3              71762.02    750.00       39436.92          1482.20  \n",
      "4             103661.78      0.00           0.00          2541.03  \n",
      "..                  ...       ...            ...              ...  \n",
      "995            90914.40    111.75        7145.98          3782.88  \n",
      "996            91840.65    155.75        9560.12           405.38  \n",
      "997            54869.22    840.75       38206.26          8723.12  \n",
      "998           101340.50      0.00           0.00             0.00  \n",
      "999           101340.50      0.00           0.00             0.00  \n",
      "\n",
      "[1000 rows x 17 columns]\n"
     ]
    }
   ],
   "source": [
    "# Load the data and libraries\n",
    "import pandas as pd\n",
    "import numpy as np\n",
    "\n",
    "payroll = pd.read_csv('https://data.cityofnewyork.us/resource/k397-673e.csv')\n",
    "print(payroll)"
   ]
  }
 ],
 "metadata": {
  "kernelspec": {
   "display_name": "Python 3",
   "language": "python",
   "name": "python3"
  },
  "language_info": {
   "codemirror_mode": {
    "name": "ipython",
    "version": 3
   },
   "file_extension": ".py",
   "mimetype": "text/x-python",
   "name": "python",
   "nbconvert_exporter": "python",
   "pygments_lexer": "ipython3",
   "version": "3.8.3"
  }
 },
 "nbformat": 4,
 "nbformat_minor": 4
}
